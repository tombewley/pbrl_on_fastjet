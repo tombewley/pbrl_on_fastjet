{
 "cells": [
  {
   "cell_type": "code",
   "execution_count": 44,
   "metadata": {},
   "outputs": [],
   "source": [
    "import os; os.chdir(\"..\")\n",
    "import sys; sys.path.append(\"../../Path_Scripts\")\n",
    "import numpy as np\n",
    "import matplotlib.pyplot as plt\n",
    "from rlutils.rewards.pbrl.graph import PreferenceGraph\n",
    "from rlutils.rewards.pbrl.models import maximum_likelihood_fitness"
   ]
  },
  {
   "cell_type": "code",
   "execution_count": 59,
   "metadata": {},
   "outputs": [
    {
     "data": {
      "image/png": "[encoded data removed]",
      "text/plain": [
       "<Figure size 216x216 with 1 Axes>"
      ]
     },
     "metadata": {},
     "output_type": "display_data"
    }
   ],
   "source": [
    "graph = PreferenceGraph()\n",
    "for _ in range(4): graph.add_episode(None, None, None)\n",
    "graph.add_preference(None, 0, 1, 0.2)\n",
    "graph.add_preference(None, 0, 2, 0.7)\n",
    "graph.add_preference(None, 1, 2, 0.5)\n",
    "graph.add_preference(None, 2, 3, 0.3)\n",
    "graph.show((3,3));"
   ]
  },
  {
   "cell_type": "code",
   "execution_count": 60,
   "metadata": {},
   "outputs": [],
   "source": [
    "_, _, _, A, _, _, y = graph.make_data_structures()\n",
    "f_th = np.array([maximum_likelihood_fitness(A, y, \"thurstone\")[0] for _ in range(100)])\n",
    "f_bt = np.array([maximum_likelihood_fitness(A, y, \"bradley-terry\")[0] for _ in range(100)]);"
   ]
  },
  {
   "cell_type": "code",
   "execution_count": 76,
   "metadata": {},
   "outputs": [
    {
     "name": "stdout",
     "output_type": "stream",
     "text": [
      "[-1.7253804  -0.36875373 -2.0496686  -0.04603978] [0.12983249 0.23371759 0.08366455 0.1685519 ]\n",
      "[-1.7015308  -0.39977977 -2.0639088  -0.01728306] [0.14962704 0.2523328  0.08398088 0.08530913]\n"
     ]
    },
    {
     "data": {
      "image/png": "[encoded data removed]",
      "text/plain": [
       "<Figure size 432x288 with 1 Axes>"
      ]
     },
     "metadata": {
      "needs_background": "light"
     },
     "output_type": "display_data"
    }
   ],
   "source": [
    "print(f_th.mean(axis=0), f_th.std(axis=0))\n",
    "\n",
    "mean = f_bt.mean(axis=0)\n",
    "print(mean, f_bt.std(axis=0))\n",
    "\n",
    "im = np.hstack((mean.reshape(1,-1), [[0.4*mean[0] + 0.3*mean[1] + 0.3*mean[2]]]))\n",
    "\n",
    "plt.imshow(im, cmap=\"coolwarm_r\");"
   ]
  },
  {
   "cell_type": "code",
   "execution_count": null,
   "metadata": {},
   "outputs": [],
   "source": []
  }
 ],
 "metadata": {
  "interpreter": {
   "hash": "767d51c1340bd893661ea55ea3124f6de3c7a262a8b4abca0554b478b1e2ff90"
  },
  "kernelspec": {
   "display_name": "Python 3.6.9 64-bit",
   "language": "python",
   "name": "python3"
  },
  "language_info": {
   "codemirror_mode": {
    "name": "ipython",
    "version": 3
   },
   "file_extension": ".py",
   "mimetype": "text/x-python",
   "name": "python",
   "nbconvert_exporter": "python",
   "pygments_lexer": "ipython3",
   "version": "3.6.9"
  },
  "orig_nbformat": 4
 },
 "nbformat": 4,
 "nbformat_minor": 2
}
