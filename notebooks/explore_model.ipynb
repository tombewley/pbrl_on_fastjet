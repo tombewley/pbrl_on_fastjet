{
 "cells": [
  {
   "cell_type": "markdown",
   "metadata": {},
   "source": [
    "xxx"
   ]
  },
  {
   "cell_type": "code",
   "execution_count": 1,
   "metadata": {},
   "outputs": [],
   "source": [
    "import os; os.chdir(\"..\")\n",
    "import sys; sys.path.append(\"../../Path_Scripts\")\n",
    "from rlutils.observers.pbrl import load\n",
    "import hyperrectangles as hr\n",
    "import matplotlib.pyplot as plt\n",
    "from torch import set_printoptions\n",
    "set_printoptions(precision=3, edgeitems=10, linewidth=200, sci_mode=False)"
   ]
  },
  {
   "cell_type": "code",
   "execution_count": 2,
   "metadata": {},
   "outputs": [
    {
     "name": "stdout",
     "output_type": "stream",
     "text": [
      "Loaded models/amber-butterfly-96/100.pbrl\n"
     ]
    }
   ],
   "source": [
    "pbrl = load(\"models/amber-butterfly-96/100.pbrl\", {})"
   ]
  },
  {
   "cell_type": "code",
   "execution_count": 4,
   "metadata": {},
   "outputs": [
    {
     "data": {
      "text/plain": [
       "41"
      ]
     },
     "execution_count": 4,
     "metadata": {},
     "output_type": "execute_result"
    }
   ],
   "source": [
    "len(pbrl.model.tree)"
   ]
  },
  {
   "cell_type": "code",
   "execution_count": 3,
   "metadata": {},
   "outputs": [
    {
     "name": "stdout",
     "output_type": "stream",
     "text": [
      "def reward_function(x):\n",
      "    if x[4] < 50.6: # alt_error\n",
      "        if x[6] < 80.3: # dist_xz\n",
      "            if x[15] < 2.15: # fwd_error\n",
      "                if x[21] < 2170.: # abs_vel\n",
      "                    if x[6] < 38.5: # dist_xz\n",
      "                        return -0.84 # n=67, std=0.618\n",
      "                    else:\n",
      "                        return -1.32 # n=126, std=0.742\n",
      "                else:\n",
      "                    return -0.502 # n=34, std=0.273\n",
      "            else:\n",
      "                if x[21] < 1740.: # abs_vel\n",
      "                    if x[25] < 0.135: # yaw_rate\n",
      "                        return -1.55 # n=76, std=0.606\n",
      "                    else:\n",
      "                        if x[16] < -0.161: # delta_fwd_error\n",
      "                            return -1.79 # n=8, std=0.428\n",
      "                        else:\n",
      "                            return -0.96 # n=47, std=0.585\n",
      "                else:\n",
      "                    return -1.96 # n=127, std=0.831\n",
      "        else:\n",
      "            if x[13] < 3.05: # hdg_error\n",
      "                if x[7] < 3.64: # delta_dist_xz\n",
      "                    if x[21] < 1760.: # abs_vel\n",
      "                        if x[8] < 0.803: # pitch\n",
      "                            if x[6] < 87.5: # dist_xz\n",
      "                                return -2.70 # n=4, std=0.532\n",
      "                            else:\n",
      "                                return -1.02 # n=37, std=0.596\n",
      "                        else:\n",
      "                            if x[4] < 21.1: # alt_error\n",
      "                                return -2.17 # n=28, std=0.568\n",
      "                            else:\n",
      "                                return -1.35 # n=11, std=0.494\n",
      "                    else:\n",
      "                        if x[1] < -7.66: # closing_speed\n",
      "                            if x[9] < 0.27: # abs_pitch\n",
      "                                return -2.54 # n=49, std=0.786\n",
      "                            else:\n",
      "                                if x[1] < -12.6: # closing_speed\n",
      "                                    return -1.01 # n=9, std=0.573\n",
      "                                else:\n",
      "                                    if x[23] < 0.773: # pitch_rate\n",
      "                                        if x[24] < 0.139: # roll_rate\n",
      "                                            return -2.85 # n=3, std=0.254\n",
      "                                        else:\n",
      "                                            return -1.68 # n=32, std=0.568\n",
      "                                    else:\n",
      "                                        return -2.92 # n=4, std=0.52\n",
      "                        else:\n",
      "                            if x[8] < 0.789: # pitch\n",
      "                                if x[13] < 2.02: # hdg_error\n",
      "                                    return -2.36 # n=4, std=0.385\n",
      "                                else:\n",
      "                                    return -3.28 # n=34, std=0.275\n",
      "                            else:\n",
      "                                return -2.01 # n=7, std=0.656\n",
      "                else:\n",
      "                    if x[4] < 15.7: # alt_error\n",
      "                        if x[13] < 2.75: # hdg_error\n",
      "                            return -3.20 # n=63, std=0.398\n",
      "                        else:\n",
      "                            return -1.88 # n=10, std=0.381\n",
      "                    else:\n",
      "                        if x[27] < 17.2: # delta_thrust\n",
      "                            return -2.47 # n=60, std=0.533\n",
      "                        else:\n",
      "                            return -1.81 # n=20, std=0.965\n",
      "            else:\n",
      "                if x[7] < 8.14: # delta_dist_xz\n",
      "                    if x[2] < 187.: # alt\n",
      "                        if x[8] < -0.889: # pitch\n",
      "                            return -4.12 # n=2, std=0.00\n",
      "                        else:\n",
      "                            if x[12] < 0.192: # delta_pitch_error\n",
      "                                if x[22] < 2.28: # g_force\n",
      "                                    if x[16] < -0.0156: # delta_fwd_error\n",
      "                                        if x[19] < 2.94: # right_error\n",
      "                                            if x[7] < 4.50: # delta_dist_xz\n",
      "                                                return -0.967 # n=70, std=0.652\n",
      "                                            else:\n",
      "                                                return -1.61 # n=11, std=0.64\n",
      "                                        else:\n",
      "                                            return -2.13 # n=4, std=0.406\n",
      "                                    else:\n",
      "                                        return -1.47 # n=96, std=0.722\n",
      "                                else:\n",
      "                                    if x[27] < 41.3: # delta_thrust\n",
      "                                        if x[5] < -4.86: # delta_alt_error\n",
      "                                            return -2.29 # n=11, std=0.27\n",
      "                                        else:\n",
      "                                            if x[21] < 2610.: # abs_vel\n",
      "                                                if x[21] < 1960.: # abs_vel\n",
      "                                                    if x[1] < -6.30: # closing_speed\n",
      "                                                        return -0.491 # n=5, std=0.108\n",
      "                                                    else:\n",
      "                                                        return -1.72 # n=10, std=0.670\n",
      "                                                else:\n",
      "                                                    return -2.02 # n=26, std=0.461\n",
      "                                            else:\n",
      "                                                return -1.04 # n=11, std=0.657\n",
      "                                    else:\n",
      "                                        return -0.312 # n=3, std=0.236\n",
      "                            else:\n",
      "                                return -0.988 # n=38, std=0.692\n",
      "                    else:\n",
      "                        if x[15] < 2.78: # fwd_error\n",
      "                            return -2.25 # n=37, std=0.799\n",
      "                        else:\n",
      "                            return -1.18 # n=11, std=1.11\n",
      "                else:\n",
      "                    return -2.42 # n=54, std=0.489\n",
      "    else:\n",
      "        if x[4] < 81.4: # alt_error\n",
      "            if x[17] < 0.715: # up_error\n",
      "                return -2.00 # n=26, std=0.865\n",
      "            else:\n",
      "                return -2.83 # n=55, std=0.857\n",
      "        else:\n",
      "            return -3.33 # n=90, std=0.574\n"
     ]
    }
   ],
   "source": [
    "print(hr.rules(pbrl.model.tree, pred_dims=[\"reward\"]))"
   ]
  },
  {
   "cell_type": "code",
   "execution_count": 3,
   "metadata": {},
   "outputs": [],
   "source": [
    "hr.diagram(pbrl.model.tree, pred_dims=[\"reward\"], out_as=\"svg\")\n"
   ]
  }
 ],
 "metadata": {
  "interpreter": {
   "hash": "767d51c1340bd893661ea55ea3124f6de3c7a262a8b4abca0554b478b1e2ff90"
  },
  "kernelspec": {
   "display_name": "Python 3.6.9 64-bit",
   "language": "python",
   "name": "python3"
  },
  "language_info": {
   "codemirror_mode": {
    "name": "ipython",
    "version": 3
   },
   "file_extension": ".py",
   "mimetype": "text/x-python",
   "name": "python",
   "nbconvert_exporter": "python",
   "pygments_lexer": "ipython3",
   "version": "3.6.9"
  },
  "orig_nbformat": 4
 },
 "nbformat": 4,
 "nbformat_minor": 2
}
